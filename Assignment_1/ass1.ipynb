{
 "cells": [
  {
   "cell_type": "markdown",
   "metadata": {},
   "source": [
    "# Python 1,2,3,4 & 5: Assignment 1"
   ]
  },
  {
   "cell_type": "markdown",
   "metadata": {},
   "source": [
    "## 2.1. Problem Statement: PYTHON 1"
   ]
  },
  {
   "cell_type": "markdown",
   "metadata": {},
   "source": [
    "### 1. Install Jupyter notebook and run the first program and share the screenshot of the output."
   ]
  },
  {
   "cell_type": "code",
   "execution_count": 26,
   "metadata": {},
   "outputs": [
    {
     "name": "stdout",
     "output_type": "stream",
     "text": [
      "My name is Tamsir SENE and I live in SENEGAL \n"
     ]
    }
   ],
   "source": [
    "firstname = \"Tamsir\"\n",
    "lastname = \"SENE\"\n",
    "country = \"SENEGAL\"\n",
    "print(\"My name is {} {} and I live in {} \".format(firstname, lastname, country))"
   ]
  },
  {
   "cell_type": "markdown",
   "metadata": {},
   "source": [
    "### 2. Write a program which will find all such numbers which are divisible by 7 but are not a multiple of 5, between 2000 and 3200 (both included). The numbers obtained should be printed in a comma-separated sequence on a single line."
   ]
  },
  {
   "cell_type": "code",
   "execution_count": 27,
   "metadata": {},
   "outputs": [
    {
     "name": "stdout",
     "output_type": "stream",
     "text": [
      "2002, 2009, 2016, 2023, 2030, 2037, 2044, 2051, 2058, 2065, 2072, 2079, 2086, 2093, 2100, 2107, 2114, 2121, 2128, 2135, 2142, 2149, 2156, 2163, 2170, 2177, 2184, 2191, 2198, 2205, 2212, 2219, 2226, 2233, 2240, 2247, 2254, 2261, 2268, 2275, 2282, 2289, 2296, 2303, 2310, 2317, 2324, 2331, 2338, 2345, 2352, 2359, 2366, 2373, 2380, 2387, 2394, 2401, 2408, 2415, 2422, 2429, 2436, 2443, 2450, 2457, 2464, 2471, 2478, 2485, 2492, 2499, 2506, 2513, 2520, 2527, 2534, 2541, 2548, 2555, 2562, 2569, 2576, 2583, 2590, 2597, 2604, 2611, 2618, 2625, 2632, 2639, 2646, 2653, 2660, 2667, 2674, 2681, 2688, 2695, 2702, 2709, 2716, 2723, 2730, 2737, 2744, 2751, 2758, 2765, 2772, 2779, 2786, 2793, 2800, 2807, 2814, 2821, 2828, 2835, 2842, 2849, 2856, 2863, 2870, 2877, 2884, 2891, 2898, 2905, 2912, 2919, 2926, 2933, 2940, 2947, 2954, 2961, 2968, 2975, 2982, 2989, 2996, 3003, 3010, 3017, 3024, 3031, 3038, 3045, 3052, 3059, 3066, 3073, 3080, 3087, 3094, 3101, 3108, 3115, 3122, 3129, 3136, 3143, 3150, 3157, 3164, 3171, 3178, 3185, 3192, 3199\n"
     ]
    }
   ],
   "source": [
    "finalList = [] ## First I define an empty list\n",
    "\n",
    "for val in range(2000, 3201): ## After I loop in a range of number from 2000 to 3200\n",
    "    if val%7==0 and val/5 !=0: ## I test if the temp val is % 7 and not / 5\n",
    "        finalList.append(val) ## If Ok I add the val in finalList \n",
    "        \n",
    "print(str(finalList)[1:-1]) ## And at least print in a comma-separated sequence on a single line     \n",
    "        "
   ]
  },
  {
   "cell_type": "markdown",
   "metadata": {},
   "source": [
    "### 3. Write a Python program to accept the user's first and last name and then getting them printed in the the reverse order with a space between first name and last name."
   ]
  },
  {
   "cell_type": "code",
   "execution_count": 33,
   "metadata": {},
   "outputs": [
    {
     "name": "stdin",
     "output_type": "stream",
     "text": [
      "Give the user firstname: Tamsir\n",
      "Give the user lastname: SENE\n"
     ]
    },
    {
     "name": "stdout",
     "output_type": "stream",
     "text": [
      "SENE Tamsir\n"
     ]
    }
   ],
   "source": [
    "firstname = input(\"Give the user firstname:\")\n",
    "lastname = input(\"Give the user lastname:\")\n",
    "print(\"{} {}\".format(lastname, firstname))"
   ]
  },
  {
   "cell_type": "markdown",
   "metadata": {},
   "source": [
    "### 4. Write a Python program to find the volume of a sphere with diameter 12 cm. Formula: V=4/3 * π * r 3"
   ]
  },
  {
   "cell_type": "code",
   "execution_count": 34,
   "metadata": {},
   "outputs": [
    {
     "name": "stdout",
     "output_type": "stream",
     "text": [
      "Volume: 904.7786842338603\n"
     ]
    }
   ],
   "source": [
    "from math import pi\n",
    "r = 12/2\n",
    "volume = (4/3)*pi*(r**3)\n",
    "print(\"Volume: {}\".format(volume))"
   ]
  },
  {
   "cell_type": "markdown",
   "metadata": {},
   "source": [
    "## 2.2. Problem Statement: PYTHON 2"
   ]
  },
  {
   "cell_type": "markdown",
   "metadata": {},
   "source": [
    "### 1. Write a program which accepts a sequence of comma-separated numbers from console and generate a list."
   ]
  },
  {
   "cell_type": "code",
   "execution_count": 48,
   "metadata": {},
   "outputs": [
    {
     "name": "stdin",
     "output_type": "stream",
     "text": [
      "Give a comma-separated numbers list:  2,4,5,6,21\n"
     ]
    },
    {
     "name": "stdout",
     "output_type": "stream",
     "text": [
      "['2', '4', '5', '6', '21']\n"
     ]
    }
   ],
   "source": [
    "number_list = input(\"Give a comma-separated numbers list: \")\n",
    "print(number_list.split(\",\"))"
   ]
  },
  {
   "cell_type": "markdown",
   "metadata": {},
   "source": [
    "### 2. Create the below pattern using nested for loop in Python."
   ]
  },
  {
   "cell_type": "code",
   "execution_count": 70,
   "metadata": {},
   "outputs": [
    {
     "name": "stdout",
     "output_type": "stream",
     "text": [
      "*\n",
      "**\n",
      "***\n",
      "****\n",
      "*****\n",
      "****\n",
      "***\n",
      "**\n",
      "*\n"
     ]
    }
   ],
   "source": [
    "char = \"*\"\n",
    "for val in range(1,6):\n",
    "    print(val*char)\n",
    "for val in range(4,0,-1):\n",
    "    print(val*char)"
   ]
  },
  {
   "cell_type": "markdown",
   "metadata": {},
   "source": [
    "### 3. Write a Python program to reverse a word after accepting the input from the user."
   ]
  },
  {
   "cell_type": "code",
   "execution_count": 53,
   "metadata": {},
   "outputs": [
    {
     "name": "stdin",
     "output_type": "stream",
     "text": [
      "Give a text:  tamsir\n"
     ]
    },
    {
     "name": "stdout",
     "output_type": "stream",
     "text": [
      "rismat\n"
     ]
    }
   ],
   "source": [
    "user_input = input(\"Give a text: \")\n",
    "print(user_input[::-1])"
   ]
  },
  {
   "cell_type": "markdown",
   "metadata": {},
   "source": [
    "### 4. Write a Python Program to print the given string in the format specified in the sample output."
   ]
  },
  {
   "cell_type": "code",
   "execution_count": 68,
   "metadata": {},
   "outputs": [
    {
     "name": "stdout",
     "output_type": "stream",
     "text": [
      "WE, THE PEOPLE OF INDIA,\n",
      "\t\thaving solemnly resolved to constitute India into a SOVEREIGN, !\n",
      "\t\t\t\tSOCIALIST, SECULAR, DEMOCRATIC\n",
      "\t\t\t\t\tand to secure to all its citizens\n"
     ]
    }
   ],
   "source": [
    "str1 = \"WE, THE PEOPLE OF INDIA,\"\n",
    "str2 = \"having solemnly resolved to constitute India into a SOVEREIGN, !\"\n",
    "str3 = \"SOCIALIST, SECULAR, DEMOCRATIC\"\n",
    "str4 = \"and to secure to all its citizens\"\n",
    "\n",
    "print(\"{}\\n\\t\\t{}\\n\\t\\t\\t\\t{}\\n\\t\\t\\t\\t\\t{}\".format(str1, str2, str3, str4))"
   ]
  },
  {
   "cell_type": "markdown",
   "metadata": {},
   "source": [
    "## 2.3. Problem Statement: PYTHON 3"
   ]
  },
  {
   "cell_type": "markdown",
   "metadata": {},
   "source": [
    "### 1.1. Write a Python Program to implement your own myreduce() function which works exactly like Python's built-in function reduce()"
   ]
  },
  {
   "cell_type": "code",
   "execution_count": 73,
   "metadata": {},
   "outputs": [
    {
     "data": {
      "text/plain": [
       "432"
      ]
     },
     "execution_count": 73,
     "metadata": {},
     "output_type": "execute_result"
    }
   ],
   "source": [
    "def myreduce(myfunction, myliste):\n",
    "    # First I use myliste[0] to get the first element of the list\n",
    "    value = myliste[0]\n",
    "    # After I use the for loop to iterate over myliste using myfunction \n",
    "    # The first iteration use myliste[0] and myliste[0]+1 for traiting myfunction and save the result in value\n",
    "    # The next use the previous value and the next for for traiting myfunction  \n",
    "    for item in myliste[1:]:\n",
    "        value = myfunction(value, item)\n",
    "    else:\n",
    "        # End at the end of myliste I return value\n",
    "        return value\n",
    "\n",
    "# Now I test myreduce function\n",
    "def multiple(x,y): \n",
    "    return x*y\n",
    "\n",
    "myreduce(multiple, [2,4,6,9])"
   ]
  },
  {
   "cell_type": "markdown",
   "metadata": {},
   "source": [
    "### 1.2. Write a Python program to implement your own myfilter() function which works exactly like Python's built-in function filter()"
   ]
  },
  {
   "cell_type": "code",
   "execution_count": 74,
   "metadata": {},
   "outputs": [
    {
     "data": {
      "text/plain": [
       "[3, 6, 9]"
      ]
     },
     "execution_count": 74,
     "metadata": {},
     "output_type": "execute_result"
    }
   ],
   "source": [
    "def myfilter(myfunction, myliste):\n",
    "    #First I create an empty liste to add all the that satisfy myfunction\n",
    "    liste = []\n",
    "    # After I use a for loop to iterate over the liste and if the current element satisfy to my myfunction, I add it to myliste \n",
    "    for item in myliste:\n",
    "        if myfunction(item):\n",
    "            liste.append(item)\n",
    "    else:\n",
    "        # And finally I return my liste with all the right element \n",
    "        return liste\n",
    "    \n",
    "    \n",
    "# Now I test myfilter function\n",
    "def multipleof3(x): \n",
    "    return x%3 == 0  \n",
    "\n",
    "myfilter(multipleof3, [2,3,5,6,9,34,43])"
   ]
  },
  {
   "cell_type": "markdown",
   "metadata": {},
   "source": [
    "### 2. Write List comprehensions to produce the following Lists."
   ]
  },
  {
   "cell_type": "code",
   "execution_count": 76,
   "metadata": {},
   "outputs": [
    {
     "name": "stdout",
     "output_type": "stream",
     "text": [
      "['A', 'C', 'A', 'D', 'G', 'I', 'L', 'D']\n"
     ]
    }
   ],
   "source": [
    "# ['A', 'C', 'A', 'D', 'G', 'I', ’L’, ‘ D’]\n",
    "text = \"ACADGILD\"\n",
    "print(list(text))"
   ]
  },
  {
   "cell_type": "code",
   "execution_count": 78,
   "metadata": {},
   "outputs": [
    {
     "name": "stdout",
     "output_type": "stream",
     "text": [
      "['x', 'xx', 'xxx', 'xxxx', 'y', 'yy', 'yyy', 'yyyy', 'z', 'zz', 'zzz', 'zzzz']\n"
     ]
    }
   ],
   "source": [
    "# ['x', 'xx', 'xxx', 'xxxx', 'y', 'yy', 'yyy', 'yyyy', 'z', 'zz', 'zzz', 'zzzz']\n",
    "listFinal = []\n",
    "list1 = ['x','y','z']\n",
    "for val in list1:\n",
    "    for number in range(1,5):\n",
    "        listFinal.append(val*number)\n",
    "#else:\n",
    "    #print(listFinal)\n",
    "    \n",
    "# In List comprehension I have    \n",
    "listComprehension1 = [val*number for val in list1 for number in range(1,5)]\n",
    "print(listComprehension1)"
   ]
  },
  {
   "cell_type": "code",
   "execution_count": 82,
   "metadata": {},
   "outputs": [
    {
     "name": "stdout",
     "output_type": "stream",
     "text": [
      "['x', 'y', 'z', 'xx', 'yy', 'zz', 'xxx', 'yyy', 'zzz', 'xxxx', 'yyyy', 'zzzz']\n"
     ]
    }
   ],
   "source": [
    "# ['x', 'y', 'z', 'xx', 'yy', 'zz', 'xxx', 'yyy', 'zzz', 'xxxx', 'yyyy', 'zzzz']\n",
    "listFinal2 = []\n",
    "listChar = ['x', 'y', 'z']\n",
    "for num in range(1,5):\n",
    "    for char in listChar:\n",
    "        listFinal2.append(num*char)\n",
    "# else:\n",
    "    # print(listFinal2)\n",
    "\n",
    "        \n",
    "# In List comprehension I have    \n",
    "listComprehension2 = [val*num for val in range(1,5) for num in listChar]\n",
    "print(listComprehension2)"
   ]
  },
  {
   "cell_type": "code",
   "execution_count": 1,
   "metadata": {},
   "outputs": [
    {
     "name": "stdout",
     "output_type": "stream",
     "text": [
      "[[2], [3], [4], [3], [4], [5], [4], [5], [6]]\n"
     ]
    }
   ],
   "source": [
    "# [[2], [3], [4], [3], [4], [5], [4], [5], [6]]\n",
    "listFinal3 = []\n",
    "listNumber = [2,3,4]\n",
    "for num in listNumber:\n",
    "    for var in range(0,3):\n",
    "        listFinal3.append([var+num])\n",
    "# else:\n",
    "    # print(listFinal3)\n",
    "    \n",
    "# In list comprehension I have\n",
    "listComprehension3 = [[var+num] for num in listNumber for var in range(0,3)]\n",
    "print(listComprehension3)"
   ]
  },
  {
   "cell_type": "code",
   "execution_count": 4,
   "metadata": {},
   "outputs": [
    {
     "name": "stdout",
     "output_type": "stream",
     "text": [
      "[[2, 3, 4, 5], [3, 4, 5, 6], [4, 5, 6, 7], [5, 6, 7, 8]]\n"
     ]
    }
   ],
   "source": [
    "# [[2, 3, 4, 5], [3, 4, 5, 6], [4, 5, 6, 7], [5, 6, 7, 8]]\n",
    "\n",
    "# Define a function to split a list based in a lenght\n",
    "def divide_chunks(l, n):\n",
    "    for i in range(0, len(l), n):  \n",
    "        yield l[i:i + n]\n",
    "        \n",
    "# Define the list to treat\n",
    "listfinal4 = []\n",
    "listNumber = [2, 3, 4, 5]\n",
    "count = 0\n",
    "while (count<4):\n",
    "    for val in listNumber:\n",
    "        listfinal4.append(val+count)\n",
    "    count +=1\n",
    "            \n",
    "# print(list(divide_chunks(listfinal4,4)))\n",
    "\n",
    "# In list comprehension I have \n",
    "listComprehension4 = [[val+num for val in listNumber] for num in range(0,4)]\n",
    "print(listComprehension4)"
   ]
  },
  {
   "cell_type": "code",
   "execution_count": 9,
   "metadata": {},
   "outputs": [
    {
     "name": "stdout",
     "output_type": "stream",
     "text": [
      "[(1, 1), (2, 1), (3, 1), (1, 2), (2, 2), (3, 2), (1, 3), (2, 3), (3, 3)]\n"
     ]
    }
   ],
   "source": [
    "# [(1, 1), (2, 1), (3, 1), (1, 2), (2, 2), (3, 2), (1, 3), (2, 3), (3, 3)]\n",
    "listfinal5 = []\n",
    "listNumber = [1, 2, 3]\n",
    "count = 1\n",
    "while (count<=3):\n",
    "    for num in listNumber:\n",
    "        listfinal5.append((num, count))\n",
    "    count +=1    \n",
    "# else:\n",
    "    # print(listfinal5)\n",
    "    \n",
    "# In list comprehension I have \n",
    "listComprehension5 = [(num, val) for val in listNumber for num in range(1,4)]\n",
    "print(listComprehension5)    "
   ]
  },
  {
   "cell_type": "markdown",
   "metadata": {},
   "source": [
    "### 3. Implement a function longestWord() that takes a list of words and returns the longest one."
   ]
  },
  {
   "cell_type": "code",
   "execution_count": 159,
   "metadata": {},
   "outputs": [
    {
     "data": {
      "text/plain": [
       "'Conakry'"
      ]
     },
     "execution_count": 159,
     "metadata": {},
     "output_type": "execute_result"
    }
   ],
   "source": [
    "def longestWord(wordslist):  \n",
    "    word_len = []  \n",
    "    for n in wordslist:  \n",
    "        word_len.append((len(n), n))  \n",
    "    word_len.sort()  \n",
    "    return word_len[-1][1]\n",
    "\n",
    "listeWord = ['Dakar', 'Bamako', 'Conakry']\n",
    "longestWord(listeWord)"
   ]
  },
  {
   "cell_type": "markdown",
   "metadata": {},
   "source": [
    "## 2.4. Problem Statement: PYTHON 4"
   ]
  },
  {
   "cell_type": "markdown",
   "metadata": {},
   "source": [
    "### 1.1 Write a Python Program(with class concepts) to find the area of the triangle using the below formula."
   ]
  },
  {
   "cell_type": "code",
   "execution_count": 160,
   "metadata": {},
   "outputs": [
    {
     "name": "stdout",
     "output_type": "stream",
     "text": [
      "Area of triangle 22.44994432064365\n"
     ]
    }
   ],
   "source": [
    "# area = (s*(s-a)*(s-b)*(s-c)) ** 0.5\n",
    "\n",
    "# First a create a class to define a triangle. We known that a triangle have 3 side: s1, s2 and s3\n",
    "class TriangleDim:\n",
    "    def __init__(self, s1, s2, s3):\n",
    "        self.s1 = s1\n",
    "        self.s2 = s2     \n",
    "        self.s3 = s3\n",
    "    \n",
    "# Second a create a class that take a Triangle object and calculate the area with the method calculateArea\n",
    "class TriangleArea(TriangleDim):\n",
    "    def __init__(self, s1, s2, s3):\n",
    "        super(TriangleArea, self).__init__(s1, s2, s3)\n",
    "        \n",
    "    def calculateArea(self):\n",
    "        s = (self.s1 + self.s2 + self.s3)/2\n",
    "        return (s*(s-self.s1)*(s-self.s2)*(s-self.s3))**0.5\n",
    "     \n",
    "# At the end I test my class TriangleArea\n",
    "triangleObjet = TriangleArea(10,5,13)\n",
    "print (\"Area of triangle {}\".format(triangleObjet.calculateArea()))"
   ]
  },
  {
   "cell_type": "markdown",
   "metadata": {},
   "source": [
    "### 1.2 Write a function filter_long_words() that takes a list of words and an integer n and returns the list of words that are longer than n."
   ]
  },
  {
   "cell_type": "code",
   "execution_count": 161,
   "metadata": {},
   "outputs": [
    {
     "name": "stdout",
     "output_type": "stream",
     "text": [
      "The word that the len is > to 4 is ['Tamsir']\n"
     ]
    }
   ],
   "source": [
    "# First a create an example of list \n",
    "myList = ['My', 'name', 'is', 'Tamsir', 'Sene']\n",
    "\n",
    "# Second I use the filter function to add to the list longestWord all the word than the len is > to 4 \n",
    "longestWord = list(filter(lambda x:(x in myList) and (len(x)>4), myList))\n",
    "\n",
    "# At the end I print the result\n",
    "print(\"The word that the len is > to 4 is {}\".format(longestWord))"
   ]
  },
  {
   "cell_type": "markdown",
   "metadata": {},
   "source": [
    "### 2.1 Write a Python program using function concept that maps list of words into a list of integers representing the lengths of the corresponding words."
   ]
  },
  {
   "cell_type": "code",
   "execution_count": 162,
   "metadata": {},
   "outputs": [
    {
     "name": "stdout",
     "output_type": "stream",
     "text": [
      "lengths of the corresponding words [2, 4, 2, 6, 4]\n"
     ]
    }
   ],
   "source": [
    "# First I write a function that return the lengths of a word\n",
    "myList = ['My', 'name', 'is', 'Tamsir', 'Sene']\n",
    "\n",
    "# Second I create a function that return the len of a word\n",
    "def wordlen(word):\n",
    "    return len(word)\n",
    "\n",
    "# I use the function map(function,list)\n",
    "listlenght = list(map(wordlen, myList))\n",
    "print(\"lengths of the corresponding words\",listlenght)"
   ]
  },
  {
   "cell_type": "markdown",
   "metadata": {},
   "source": [
    "### 2.2 Write a Python function which takes a character (i.e. a string of length 1) and returns True if it is a vowel, False otherwise."
   ]
  },
  {
   "cell_type": "code",
   "execution_count": 163,
   "metadata": {},
   "outputs": [
    {
     "name": "stdout",
     "output_type": "stream",
     "text": [
      "The caracter given by user is vowel\n"
     ]
    }
   ],
   "source": [
    "# I first define a list that represent all the vowel\n",
    "vowel = ['a', 'e', 'i', 'o', 'u', 'y']\n",
    "\n",
    "# I create a function that take the caracter given by the user and test if it's in vowel list\n",
    "def getVowel(character):\n",
    "        if character in vowel:\n",
    "            print(\"The caracter given by user is vowel\")\n",
    "        else:\n",
    "            print(\"The caracter given by user is not vowel\")\n",
    "    \n",
    "# I test the function\n",
    "getVowel(\"y\")"
   ]
  },
  {
   "cell_type": "markdown",
   "metadata": {},
   "source": [
    "## 2.5. Problem Statement: PYTHON 5"
   ]
  },
  {
   "cell_type": "markdown",
   "metadata": {},
   "source": [
    "### 1. Write a function to compute 5/0 and use try/except to catch the exceptions."
   ]
  },
  {
   "cell_type": "code",
   "execution_count": 164,
   "metadata": {},
   "outputs": [
    {
     "name": "stdout",
     "output_type": "stream",
     "text": [
      "Division by zero not permit\n"
     ]
    }
   ],
   "source": [
    "# I create the function with try/catch ZeroDivisionError exception\n",
    "def funcDivision():\n",
    "    try:\n",
    "        calcul = 5/0\n",
    "        print(\"OK Success: \", calcul)\n",
    "    except ZeroDivisionError:\n",
    "        print(\"Division by zero not permit\")\n",
    "        \n",
    "    \n",
    "# Finally I call the function\n",
    "funcDivision()"
   ]
  },
  {
   "cell_type": "code",
   "execution_count": 10,
   "metadata": {},
   "outputs": [
    {
     "name": "stdout",
     "output_type": "stream",
     "text": [
      "Americans  play Baseball.\n",
      "Americans  play Cricket.\n",
      "Americans  watch Baseball.\n",
      "Americans  watch Cricket.\n",
      "Indians play Baseball.\n",
      "Indians play Cricket.\n",
      "Indians watch Baseball.\n",
      "Indians watch Cricket.\n"
     ]
    }
   ],
   "source": [
    "### 2. Implement a Python program to generate all sentences \n",
    "### where subject is in [\"Americans\", \"Indians\"] \n",
    "### and verb is in [\"Play\", \"watch\"] \n",
    "### and the object is in [\"Baseball\",\"cricket\"].\n",
    "# I define subjects, verbs, objects\n",
    "subjects = [\"Americans \",\"Indians\"]\n",
    "verbs = [\"play\",\"watch\"]\n",
    "objects = [\"Baseball\",\"Cricket\"]\n",
    "\n",
    "listSentences = []\n",
    "\n",
    "# I iterate over the 3 lists to generate all the sentences in the lists\n",
    "for subject in subjects:\n",
    "    for verb in verbs:\n",
    "        for obj in objects:\n",
    "            listSentences.append(\"{} {} {}.\".format(subject, verb, obj))\n",
    "else:\n",
    "    #','.join(listSentences)\n",
    "    newListSentences = '\\n'.join(listSentences)\n",
    "    \n",
    "    \n",
    "print(newListSentences)     "
   ]
  }
 ],
 "metadata": {
  "kernelspec": {
   "display_name": "Python 3",
   "language": "python",
   "name": "python3"
  },
  "language_info": {
   "codemirror_mode": {
    "name": "ipython",
    "version": 3
   },
   "file_extension": ".py",
   "mimetype": "text/x-python",
   "name": "python",
   "nbconvert_exporter": "python",
   "pygments_lexer": "ipython3",
   "version": "3.6.8"
  }
 },
 "nbformat": 4,
 "nbformat_minor": 2
}
